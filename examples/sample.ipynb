{
  "cells": [
    {
      "cell_type": "markdown",
      "metadata": {
        "colab_type": "text",
        "id": "view-in-github"
      },
      "source": [
        "<a href=\"https://colab.research.google.com/github/junhsss/consistency-models/blob/main/examples/sample.ipynb\" target=\"_parent\"><img src=\"https://colab.research.google.com/assets/colab-badge.svg\" alt=\"Open In Colab\"/></a>"
      ]
    },
    {
      "cell_type": "markdown",
      "metadata": {
        "id": "ch98dgRpewhH"
      },
      "source": [
        "# **Sample from Consistency Models 🌃**\n",
        "\n",
        "**Consistency Models** are a new family of generative models that achieve high sample quality without adversarial training. They support *fast one-step generation* by design, while still allowing for few-step sampling to trade compute for sample quality."
      ]
    },
    {
      "cell_type": "code",
      "execution_count": 1,
      "metadata": {
        "id": "yo7qWASqe-Da"
      },
      "outputs": [],
      "source": [
        "%%capture\n",
        "!pip install diffusers"
      ]
    },
    {
      "cell_type": "markdown",
      "metadata": {
        "id": "ZrnSYCwOfYRy"
      },
      "source": [
        "### Sampling\n",
        "\n",
        "This example shows how to sample from pre-trained **consistency models**. \n",
        "\n",
        "If you're interesetd in training **consistency models**, you may want to check out [`consistency`](https://github.com/junhsss/consistency-models) package.\n",
        "\n",
        "Once trained, you can use it with `diffusers` without depending on `consistency`, using custom pipeline [`consistency/pipeline`](https://huggingface.co/consistency/pipeline)."
      ]
    },
    {
      "cell_type": "code",
      "execution_count": 5,
      "metadata": {
        "id": "uHOzmtKTfGeh"
      },
      "outputs": [
        {
          "name": "stderr",
          "output_type": "stream",
          "text": [
            "Cannot initialize model with low cpu memory usage because `accelerate` was not found in the environment. Defaulting to `low_cpu_mem_usage=False`. It is strongly recommended to install `accelerate` for faster and less memory-intense model loading. You can do so with: \n",
            "```\n",
            "pip install accelerate\n",
            "```\n",
            ".\n",
            "unet/diffusion_pytorch_model.safetensors not found\n",
            "Loading pipeline components...:   0%|          | 0/1 [00:00<?, ?it/s]An error occurred while trying to fetch /home/codespace/.cache/huggingface/hub/models--consistency--cifar10-32-demo/snapshots/48a74149e3ba7b58c141ce66bcb4cbea5ec10253/unet: Error no file named diffusion_pytorch_model.safetensors found in directory /home/codespace/.cache/huggingface/hub/models--consistency--cifar10-32-demo/snapshots/48a74149e3ba7b58c141ce66bcb4cbea5ec10253/unet.\n",
            "Defaulting to unsafe serialization. Pass `allow_pickle=False` to raise an error instead.\n",
            "Loading pipeline components...: 100%|██████████| 1/1 [00:00<00:00,  3.88it/s]\n",
            "100%|██████████| 1/1 [00:00<00:00,  5.98it/s]\n"
          ]
        },
        {
          "data": {
            "image/jpeg": "[encoded data removed]",
            "image/png": "[encoded data removed]",
            "text/plain": [
              "<PIL.Image.Image image mode=RGB size=32x32>"
            ]
          },
          "execution_count": 5,
          "metadata": {},
          "output_type": "execute_result"
        }
      ],
      "source": [
        "from diffusers import DiffusionPipeline\n",
        "\n",
        "pipeline = DiffusionPipeline.from_pretrained(\n",
        "    \"consistency/cifar10-32-demo\",\n",
        "    custom_pipeline=\"consistency/pipeline\",\n",
        ")\n",
        "\n",
        "pipeline().images[0]  # Super Fast Generation! 🤯"
      ]
    },
    {
      "cell_type": "code",
      "execution_count": 7,
      "metadata": {},
      "outputs": [
        {
          "name": "stdout",
          "output_type": "stream",
          "text": [
            "FrozenDict({'unet': ('diffusers', 'UNet2DModel'), '_name_or_path': 'consistency/cifar10-32-demo'})\n"
          ]
        }
      ],
      "source": [
        "print(pipeline.config)\n"
      ]
    },
    {
      "cell_type": "code",
      "execution_count": 12,
      "metadata": {},
      "outputs": [
        {
          "name": "stderr",
          "output_type": "stream",
          "text": [
            "Cannot initialize model with low cpu memory usage because `accelerate` was not found in the environment. Defaulting to `low_cpu_mem_usage=False`. It is strongly recommended to install `accelerate` for faster and less memory-intense model loading. You can do so with: \n",
            "```\n",
            "pip install accelerate\n",
            "```\n",
            ".\n",
            "unet/diffusion_pytorch_model.safetensors not found\n",
            "Loading pipeline components...:   0%|          | 0/1 [00:00<?, ?it/s]An error occurred while trying to fetch /home/codespace/.cache/huggingface/hub/models--consistency--cifar10-32-demo/snapshots/48a74149e3ba7b58c141ce66bcb4cbea5ec10253/unet: Error no file named diffusion_pytorch_model.safetensors found in directory /home/codespace/.cache/huggingface/hub/models--consistency--cifar10-32-demo/snapshots/48a74149e3ba7b58c141ce66bcb4cbea5ec10253/unet.\n",
            "Defaulting to unsafe serialization. Pass `allow_pickle=False` to raise an error instead.\n",
            "Loading pipeline components...: 100%|██████████| 1/1 [00:00<00:00,  3.87it/s]\n"
          ]
        },
        {
          "name": "stdout",
          "output_type": "stream",
          "text": [
            "100/10000 images generated and saved.\n",
            "200/10000 images generated and saved.\n",
            "300/10000 images generated and saved.\n",
            "400/10000 images generated and saved.\n",
            "500/10000 images generated and saved.\n",
            "600/10000 images generated and saved.\n",
            "700/10000 images generated and saved.\n",
            "800/10000 images generated and saved.\n",
            "900/10000 images generated and saved.\n",
            "1000/10000 images generated and saved.\n",
            "1100/10000 images generated and saved.\n",
            "1200/10000 images generated and saved.\n",
            "1300/10000 images generated and saved.\n",
            "1400/10000 images generated and saved.\n",
            "1500/10000 images generated and saved.\n",
            "1600/10000 images generated and saved.\n",
            "1700/10000 images generated and saved.\n",
            "1800/10000 images generated and saved.\n",
            "1900/10000 images generated and saved.\n",
            "2000/10000 images generated and saved.\n",
            "2100/10000 images generated and saved.\n",
            "2200/10000 images generated and saved.\n",
            "2300/10000 images generated and saved.\n",
            "2400/10000 images generated and saved.\n",
            "2500/10000 images generated and saved.\n",
            "2600/10000 images generated and saved.\n",
            "2700/10000 images generated and saved.\n",
            "2800/10000 images generated and saved.\n",
            "2900/10000 images generated and saved.\n",
            "3000/10000 images generated and saved.\n",
            "3100/10000 images generated and saved.\n",
            "3200/10000 images generated and saved.\n",
            "3300/10000 images generated and saved.\n",
            "3400/10000 images generated and saved.\n",
            "3500/10000 images generated and saved.\n",
            "3600/10000 images generated and saved.\n",
            "3700/10000 images generated and saved.\n",
            "3800/10000 images generated and saved.\n",
            "3900/10000 images generated and saved.\n",
            "4000/10000 images generated and saved.\n",
            "4100/10000 images generated and saved.\n",
            "4200/10000 images generated and saved.\n",
            "4300/10000 images generated and saved.\n",
            "4400/10000 images generated and saved.\n",
            "4500/10000 images generated and saved.\n",
            "4600/10000 images generated and saved.\n",
            "4700/10000 images generated and saved.\n",
            "4800/10000 images generated and saved.\n",
            "4900/10000 images generated and saved.\n",
            "5000/10000 images generated and saved.\n",
            "5100/10000 images generated and saved.\n",
            "5200/10000 images generated and saved.\n",
            "5300/10000 images generated and saved.\n",
            "5400/10000 images generated and saved.\n",
            "5500/10000 images generated and saved.\n",
            "5600/10000 images generated and saved.\n",
            "5700/10000 images generated and saved.\n",
            "5800/10000 images generated and saved.\n",
            "5900/10000 images generated and saved.\n",
            "6000/10000 images generated and saved.\n",
            "6100/10000 images generated and saved.\n",
            "6200/10000 images generated and saved.\n",
            "6300/10000 images generated and saved.\n",
            "6400/10000 images generated and saved.\n",
            "6500/10000 images generated and saved.\n",
            "6600/10000 images generated and saved.\n",
            "6700/10000 images generated and saved.\n",
            "6800/10000 images generated and saved.\n",
            "6900/10000 images generated and saved.\n",
            "7000/10000 images generated and saved.\n",
            "7100/10000 images generated and saved.\n",
            "7200/10000 images generated and saved.\n",
            "7300/10000 images generated and saved.\n",
            "7400/10000 images generated and saved.\n",
            "7500/10000 images generated and saved.\n",
            "7600/10000 images generated and saved.\n",
            "7700/10000 images generated and saved.\n",
            "7800/10000 images generated and saved.\n",
            "7900/10000 images generated and saved.\n",
            "8000/10000 images generated and saved.\n",
            "8100/10000 images generated and saved.\n",
            "8200/10000 images generated and saved.\n",
            "8300/10000 images generated and saved.\n",
            "8400/10000 images generated and saved.\n",
            "8500/10000 images generated and saved.\n",
            "8600/10000 images generated and saved.\n",
            "8700/10000 images generated and saved.\n",
            "8800/10000 images generated and saved.\n",
            "8900/10000 images generated and saved.\n",
            "9000/10000 images generated and saved.\n",
            "9100/10000 images generated and saved.\n",
            "9200/10000 images generated and saved.\n",
            "9300/10000 images generated and saved.\n",
            "9400/10000 images generated and saved.\n",
            "9500/10000 images generated and saved.\n",
            "9600/10000 images generated and saved.\n",
            "9700/10000 images generated and saved.\n",
            "9800/10000 images generated and saved.\n",
            "9900/10000 images generated and saved.\n",
            "10000/10000 images generated and saved.\n",
            "Image generation complete!\n"
          ]
        }
      ],
      "source": [
        "import os\n",
        "from diffusers import DiffusionPipeline\n",
        "from PIL import Image\n",
        "\n",
        "# 加载预训练模型\n",
        "pipeline = DiffusionPipeline.from_pretrained(\n",
        "    \"consistency/cifar10-32-demo\",\n",
        "    custom_pipeline=\"consistency/pipeline\",\n",
        ")\n",
        "\n",
        "# 禁用进度条\n",
        "pipeline.set_progress_bar_config(disable=True)\n",
        "\n",
        "# 指定保存图片的文件夹路径\n",
        "output_folder = \"./1stepgenerated_images\"\n",
        "if not os.path.exists(output_folder):\n",
        "    os.makedirs(output_folder)\n",
        "\n",
        "# 生成10000张图片\n",
        "num_images = 10000\n",
        "for i in range(num_images):\n",
        "    # 生成一张图片\n",
        "    image = pipeline().images[0]\n",
        "    \n",
        "    # 将图片保存到文件夹\n",
        "    image_path = os.path.join(output_folder, f\"generated_image_{i+1}.png\")\n",
        "    image.save(image_path)\n",
        "\n",
        "    # 每生成100张图片，打印一次进度\n",
        "    if (i + 1) % 100 == 0:\n",
        "        print(f\"{i + 1}/{num_images} images generated and saved.\")\n",
        "        \n",
        "print(\"Image generation complete!\")\n"
      ]
    },
    {
      "cell_type": "code",
      "execution_count": null,
      "metadata": {},
      "outputs": [
        {
          "name": "stderr",
          "output_type": "stream",
          "text": [
            "/home/codespace/.local/lib/python3.12/site-packages/tqdm-4.66.5-py3.12.egg/tqdm/auto.py:21: TqdmWarning: IProgress not found. Please update jupyter and ipywidgets. See https://ipywidgets.readthedocs.io/en/stable/user_install.html\n",
            "  from .autonotebook import tqdm as notebook_tqdm\n",
            "unet/diffusion_pytorch_model.safetensors not found\n",
            "Loading pipeline components...:   0%|          | 0/1 [00:00<?, ?it/s]An error occurred while trying to fetch /home/codespace/.cache/huggingface/hub/models--consistency--cifar10-32-demo/snapshots/48a74149e3ba7b58c141ce66bcb4cbea5ec10253/unet: Error no file named diffusion_pytorch_model.safetensors found in directory /home/codespace/.cache/huggingface/hub/models--consistency--cifar10-32-demo/snapshots/48a74149e3ba7b58c141ce66bcb4cbea5ec10253/unet.\n",
            "Defaulting to unsafe serialization. Pass `allow_pickle=False` to raise an error instead.\n",
            "Loading pipeline components...: 100%|██████████| 1/1 [00:01<00:00,  1.27s/it]\n",
            "/home/codespace/.local/lib/python3.12/site-packages/diffusers-0.30.3-py3.12.egg/diffusers/models/downsampling.py:240: UserWarning: To copy construct from a tensor, it is recommended to use sourceTensor.clone().detach() or sourceTensor.clone().detach().requires_grad_(True), rather than torch.tensor(sourceTensor).\n",
            "  torch.tensor(kernel, device=hidden_states.device),\n",
            "/home/codespace/.local/lib/python3.12/site-packages/diffusers-0.30.3-py3.12.egg/diffusers/models/upsampling.py:304: UserWarning: To copy construct from a tensor, it is recommended to use sourceTensor.clone().detach() or sourceTensor.clone().detach().requires_grad_(True), rather than torch.tensor(sourceTensor).\n",
            "  torch.tensor(kernel, device=hidden_states.device),\n"
          ]
        },
        {
          "name": "stdout",
          "output_type": "stream",
          "text": [
            "500/10000 images generated and saved for 2 steps.\n",
            "1000/10000 images generated and saved for 2 steps.\n",
            "1500/10000 images generated and saved for 2 steps.\n",
            "2000/10000 images generated and saved for 2 steps.\n",
            "2500/10000 images generated and saved for 2 steps.\n",
            "3000/10000 images generated and saved for 2 steps.\n",
            "3500/10000 images generated and saved for 2 steps.\n",
            "4000/10000 images generated and saved for 2 steps.\n",
            "4500/10000 images generated and saved for 2 steps.\n",
            "5000/10000 images generated and saved for 2 steps.\n",
            "5500/10000 images generated and saved for 2 steps.\n",
            "6000/10000 images generated and saved for 2 steps.\n",
            "6500/10000 images generated and saved for 2 steps.\n",
            "7000/10000 images generated and saved for 2 steps.\n",
            "7500/10000 images generated and saved for 2 steps.\n",
            "8000/10000 images generated and saved for 2 steps.\n",
            "8500/10000 images generated and saved for 2 steps.\n",
            "9000/10000 images generated and saved for 2 steps.\n",
            "9500/10000 images generated and saved for 2 steps.\n",
            "10000/10000 images generated and saved for 2 steps.\n",
            "500/10000 images generated and saved for 4 steps.\n",
            "1000/10000 images generated and saved for 4 steps.\n",
            "1500/10000 images generated and saved for 4 steps.\n",
            "2000/10000 images generated and saved for 4 steps.\n",
            "2500/10000 images generated and saved for 4 steps.\n",
            "3000/10000 images generated and saved for 4 steps.\n",
            "3500/10000 images generated and saved for 4 steps.\n",
            "4000/10000 images generated and saved for 4 steps.\n",
            "4500/10000 images generated and saved for 4 steps.\n",
            "5000/10000 images generated and saved for 4 steps.\n",
            "5500/10000 images generated and saved for 4 steps.\n",
            "6000/10000 images generated and saved for 4 steps.\n",
            "6500/10000 images generated and saved for 4 steps.\n",
            "7000/10000 images generated and saved for 4 steps.\n",
            "7500/10000 images generated and saved for 4 steps.\n",
            "8000/10000 images generated and saved for 4 steps.\n",
            "8500/10000 images generated and saved for 4 steps.\n",
            "9000/10000 images generated and saved for 4 steps.\n",
            "9500/10000 images generated and saved for 4 steps.\n",
            "10000/10000 images generated and saved for 4 steps.\n",
            "500/10000 images generated and saved for 8 steps.\n",
            "1000/10000 images generated and saved for 8 steps.\n",
            "1500/10000 images generated and saved for 8 steps.\n",
            "2000/10000 images generated and saved for 8 steps.\n"
          ]
        }
      ],
      "source": [
        "import os\n",
        "from diffusers import DiffusionPipeline\n",
        "from PIL import Image\n",
        "\n",
        "# 加载预训练模型\n",
        "pipeline = DiffusionPipeline.from_pretrained(\n",
        "    \"consistency/cifar10-32-demo\",\n",
        "    custom_pipeline=\"consistency/pipeline\",\n",
        ")\n",
        "\n",
        "# 禁用进度条\n",
        "pipeline.set_progress_bar_config(disable=True)\n",
        "\n",
        "# 定义步数列表\n",
        "steps_list = [2, 4, 8, 10]\n",
        "\n",
        "# 每个步数生成10000张图片并保存\n",
        "num_images = 10000\n",
        "\n",
        "for steps in steps_list:\n",
        "    # 为每个步数设置保存文件夹\n",
        "    output_folder = f\"./{steps}step_generated_images\"\n",
        "    if not os.path.exists(output_folder):\n",
        "        os.makedirs(output_folder)\n",
        "\n",
        "    # 生成图片\n",
        "    for i in range(num_images):\n",
        "        # 生成一张图片，指定步数\n",
        "        image = pipeline(steps=steps).images[0]\n",
        "        \n",
        "        # 将图片保存到文件夹\n",
        "        image_path = os.path.join(output_folder, f\"generated_image_{i+1}.png\")\n",
        "        image.save(image_path)\n",
        "\n",
        "        \n",
        "        if (i + 1) % 500 == 0:\n",
        "            print(f\"{i + 1}/{num_images} images generated and saved for {steps} steps.\")\n",
        "\n",
        "print(\"Image generation complete!\")\n"
      ]
    },
    {
      "cell_type": "code",
      "execution_count": 11,
      "metadata": {},
      "outputs": [
        {
          "name": "stderr",
          "output_type": "stream",
          "text": [
            "  0%|          | 0/1 [00:00<?, ?it/s]/home/codespace/.local/lib/python3.12/site-packages/diffusers-0.30.3-py3.12.egg/diffusers/models/downsampling.py:240: UserWarning: To copy construct from a tensor, it is recommended to use sourceTensor.clone().detach() or sourceTensor.clone().detach().requires_grad_(True), rather than torch.tensor(sourceTensor).\n",
            "  torch.tensor(kernel, device=hidden_states.device),\n",
            "/home/codespace/.local/lib/python3.12/site-packages/diffusers-0.30.3-py3.12.egg/diffusers/models/upsampling.py:304: UserWarning: To copy construct from a tensor, it is recommended to use sourceTensor.clone().detach() or sourceTensor.clone().detach().requires_grad_(True), rather than torch.tensor(sourceTensor).\n",
            "  torch.tensor(kernel, device=hidden_states.device),\n",
            "100%|██████████| 1/1 [00:00<00:00,  5.84it/s]\n"
          ]
        },
        {
          "data": {
            "image/png": "[encoded data removed]",
            "text/plain": [
              "<Figure size 640x480 with 1 Axes>"
            ]
          },
          "metadata": {},
          "output_type": "display_data"
        },
        {
          "name": "stderr",
          "output_type": "stream",
          "text": [
            "100%|██████████| 2/2 [00:00<00:00,  4.96it/s]\n"
          ]
        },
        {
          "data": {
            "image/png": "[encoded data removed]",
            "text/plain": [
              "<Figure size 640x480 with 1 Axes>"
            ]
          },
          "metadata": {},
          "output_type": "display_data"
        },
        {
          "name": "stderr",
          "output_type": "stream",
          "text": [
            "100%|██████████| 4/4 [00:00<00:00,  5.93it/s]\n"
          ]
        },
        {
          "data": {
            "image/png": "[encoded data removed]",
            "text/plain": [
              "<Figure size 640x480 with 1 Axes>"
            ]
          },
          "metadata": {},
          "output_type": "display_data"
        },
        {
          "name": "stderr",
          "output_type": "stream",
          "text": [
            "100%|██████████| 8/8 [00:01<00:00,  6.09it/s]\n"
          ]
        },
        {
          "data": {
            "image/png": "[encoded data removed]",
            "text/plain": [
              "<Figure size 640x480 with 1 Axes>"
            ]
          },
          "metadata": {},
          "output_type": "display_data"
        },
        {
          "name": "stderr",
          "output_type": "stream",
          "text": [
            "100%|██████████| 16/16 [00:03<00:00,  5.32it/s]\n"
          ]
        },
        {
          "data": {
            "image/png": "[encoded data removed]",
            "text/plain": [
              "<Figure size 640x480 with 1 Axes>"
            ]
          },
          "metadata": {},
          "output_type": "display_data"
        },
        {
          "name": "stdout",
          "output_type": "stream",
          "text": [
            "Image generation complete!\n"
          ]
        }
      ],
      "source": [
        "from PIL import Image\n",
        "import matplotlib.pyplot as plt\n",
        "steps_list = [1, 2, 4, 8, 16]\n",
        "\n",
        "# 循环生成并保存每个步数对应的图片\n",
        "for steps in steps_list:\n",
        "    # 生成图片，指定 num_inference_steps 参数\n",
        "    image = pipeline(steps=steps).images[0]\n",
        "\n",
        "\n",
        "    # 展示图片\n",
        "    plt.imshow(image)\n",
        "    plt.title(f\"Generated Image with {steps} Steps\")\n",
        "    plt.axis(\"off\")  # 隐藏坐标轴\n",
        "    plt.show()\n",
        "\n",
        "print(\"Image generation complete!\")\n"
      ]
    }
  ],
  "metadata": {
    "colab": {
      "include_colab_link": true,
      "name": "scratchpad",
      "provenance": []
    },
    "kernelspec": {
      "display_name": "Python 3",
      "name": "python3"
    },
    "language_info": {
      "codemirror_mode": {
        "name": "ipython",
        "version": 3
      },
      "file_extension": ".py",
      "mimetype": "text/x-python",
      "name": "python",
      "nbconvert_exporter": "python",
      "pygments_lexer": "ipython3",
      "version": "3.12.1"
    }
  },
  "nbformat": 4,
  "nbformat_minor": 0
}
